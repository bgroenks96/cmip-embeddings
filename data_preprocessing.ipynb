{
 "cells": [
  {
   "cell_type": "code",
   "execution_count": 29,
   "metadata": {},
   "outputs": [
    {
     "name": "stdout",
     "output_type": "stream",
     "text": [
      "Requirement already satisfied: xarray in /opt/conda/lib/python3.6/site-packages (0.11.3)\n",
      "Requirement already satisfied: pandas>=0.19.2 in /opt/conda/lib/python3.6/site-packages (from xarray) (0.23.4)\n",
      "Requirement already satisfied: numpy>=1.12 in /opt/conda/lib/python3.6/site-packages (from xarray) (1.13.3)\n",
      "Requirement already satisfied: pytz>=2011k in /opt/conda/lib/python3.6/site-packages (from pandas>=0.19.2->xarray) (2018.9)\n",
      "Requirement already satisfied: python-dateutil>=2.5.0 in /opt/conda/lib/python3.6/site-packages (from pandas>=0.19.2->xarray) (2.7.5)\n",
      "Requirement already satisfied: six>=1.5 in /opt/conda/lib/python3.6/site-packages (from python-dateutil>=2.5.0->pandas>=0.19.2->xarray) (1.12.0)\n",
      "Requirement already satisfied: bottleneck in /opt/conda/lib/python3.6/site-packages (1.2.1)\n",
      "Requirement already satisfied: numpy in /opt/conda/lib/python3.6/site-packages (from bottleneck) (1.13.3)\n",
      "Collecting keras\n",
      "\u001b[?25l  Downloading https://files.pythonhosted.org/packages/5e/10/aa32dad071ce52b5502266b5c659451cfd6ffcbf14e6c8c4f16c0ff5aaab/Keras-2.2.4-py2.py3-none-any.whl (312kB)\n",
      "\u001b[K    100% |████████████████████████████████| 317kB 23.7MB/s \n",
      "\u001b[?25hCollecting keras-applications>=1.0.6 (from keras)\n",
      "\u001b[?25l  Downloading https://files.pythonhosted.org/packages/90/85/64c82949765cfb246bbdaf5aca2d55f400f792655927a017710a78445def/Keras_Applications-1.0.7-py2.py3-none-any.whl (51kB)\n",
      "\u001b[K    100% |████████████████████████████████| 61kB 25.8MB/s \n",
      "\u001b[?25hRequirement already satisfied: h5py in /opt/conda/lib/python3.6/site-packages (from keras) (2.7.1)\n",
      "Requirement already satisfied: scipy>=0.14 in /opt/conda/lib/python3.6/site-packages (from keras) (1.1.0)\n",
      "Requirement already satisfied: pyyaml in /opt/conda/lib/python3.6/site-packages (from keras) (3.13)\n",
      "Requirement already satisfied: numpy>=1.9.1 in /opt/conda/lib/python3.6/site-packages (from keras) (1.13.3)\n",
      "Requirement already satisfied: six>=1.9.0 in /opt/conda/lib/python3.6/site-packages (from keras) (1.12.0)\n",
      "Collecting keras-preprocessing>=1.0.5 (from keras)\n",
      "\u001b[?25l  Downloading https://files.pythonhosted.org/packages/c0/bf/0315ef6a9fd3fc2346e85b0ff1f5f83ca17073f2c31ac719ab2e4da0d4a3/Keras_Preprocessing-1.0.9-py2.py3-none-any.whl (59kB)\n",
      "\u001b[K    100% |████████████████████████████████| 61kB 14.5MB/s \n",
      "\u001b[?25hInstalling collected packages: keras-applications, keras-preprocessing, keras\n",
      "Successfully installed keras-2.2.4 keras-applications-1.0.7 keras-preprocessing-1.0.9\n"
     ]
    }
   ],
   "source": [
    "!pip install xarray\n",
    "!pip install bottleneck\n",
    "!pip install keras"
   ]
  },
  {
   "cell_type": "code",
   "execution_count": 3,
   "metadata": {},
   "outputs": [],
   "source": [
    "import numpy as np\n",
    "import pandas as pd\n",
    "import xarray as xr\n",
    "import os\n",
    "import io\n",
    "from typing import *"
   ]
  },
  {
   "cell_type": "markdown",
   "metadata": {},
   "source": [
    "## Raw data download helper scripts\n",
    "\n",
    "Helper code for automating download of raw data directly from KNMI. Data must have been recently generated and published on KNMI server."
   ]
  },
  {
   "cell_type": "code",
   "execution_count": 4,
   "metadata": {},
   "outputs": [
    {
     "ename": "ModuleNotFoundError",
     "evalue": "No module named 'wget'",
     "output_type": "error",
     "traceback": [
      "\u001b[0;31m---------------------------------------------------------------------------\u001b[0m",
      "\u001b[0;31mModuleNotFoundError\u001b[0m                       Traceback (most recent call last)",
      "\u001b[0;32m<ipython-input-4-7dfecc91f071>\u001b[0m in \u001b[0;36m<module>\u001b[0;34m\u001b[0m\n\u001b[0;32m----> 1\u001b[0;31m \u001b[0;32mimport\u001b[0m \u001b[0mwget\u001b[0m\u001b[0;34m\u001b[0m\u001b[0;34m\u001b[0m\u001b[0m\n\u001b[0m\u001b[1;32m      2\u001b[0m \u001b[0;34m\u001b[0m\u001b[0m\n\u001b[1;32m      3\u001b[0m \u001b[0mN_models\u001b[0m \u001b[0;34m=\u001b[0m \u001b[0;36m65\u001b[0m\u001b[0;34m\u001b[0m\u001b[0;34m\u001b[0m\u001b[0m\n\u001b[1;32m      4\u001b[0m \u001b[0mtasmin_uri_base\u001b[0m \u001b[0;34m=\u001b[0m \u001b[0;34m'https://climexp.knmi.nl/data/icmip5_tasmin_Amon_ens_rcp26_-125--65E_25-50N_n_'\u001b[0m\u001b[0;34m\u001b[0m\u001b[0;34m\u001b[0m\u001b[0m\n\u001b[1;32m      5\u001b[0m \u001b[0mtasmax_uri_base\u001b[0m \u001b[0;34m=\u001b[0m \u001b[0;34m'https://climexp.knmi.nl/data/icmip5_tasmax_Amon_ens_rcp26_-125--65E_25-50N_n_'\u001b[0m\u001b[0;34m\u001b[0m\u001b[0;34m\u001b[0m\u001b[0m\n",
      "\u001b[0;31mModuleNotFoundError\u001b[0m: No module named 'wget'"
     ]
    }
   ],
   "source": [
    "import wget\n",
    "\n",
    "N_models = 65\n",
    "tasmin_uri_base = 'https://climexp.knmi.nl/data/icmip5_tasmin_Amon_ens_rcp26_-125--65E_25-50N_n_'\n",
    "tasmax_uri_base = 'https://climexp.knmi.nl/data/icmip5_tasmax_Amon_ens_rcp26_-125--65E_25-50N_n_'\n",
    "pr_uri_base = 'https://climexp.knmi.nl/data/icmip5_pr_Amon_ens_rcp26_-125--65E_25-50N_n_'\n",
    "evspspl_uri_base = 'https://climexp.knmi.nl/data/icmip5_evspsbl_Amon_ens_rcp26_-125--65E_25-50N_n_'\n",
    "pme_uri_base = 'https://climexp.knmi.nl/data/icmip5_pme_Amon_ens_rcp26_-125--65E_25-50N_n_'\n",
    "hurs_uri_base = 'https://climexp.knmi.nl/data/icmip5_hurs_Amon_ens_rcp26_-125--65E_25-50N_n_'\n",
    "psl_uri_base = 'https://climexp.knmi.nl/data/icmip5_psl_Amon_ens_rcp26_-125--65E_25-50N_n_'\n",
    "for i in range(63, N_models):\n",
    "    uri = '{}{:03d}.dat'.format(psl_uri_base, i)\n",
    "    print('Downloading model {}/{} from {}'.format(i+1, N_models, uri))\n",
    "    wget.download(uri)"
   ]
  },
  {
   "cell_type": "markdown",
   "metadata": {},
   "source": [
    "## Preprocessing for raw data files\n",
    "\n",
    "1. Parse and save raw data into per variable datasets"
   ]
  },
  {
   "cell_type": "code",
   "execution_count": 5,
   "metadata": {},
   "outputs": [],
   "source": [
    "raw_data_dir = 'raw_data'\n",
    "var_names = ['tas','tasmin','tasmax','pr','pme','evspsbl']\n",
    "months = ['Jan','Feb','Mar','Apr','May','Jun','Jul','Aug','Sep','Oct','Nov','Dec']"
   ]
  },
  {
   "cell_type": "code",
   "execution_count": 6,
   "metadata": {},
   "outputs": [],
   "source": [
    "import os.path\n",
    "\n",
    "# create data/ directory\n",
    "if not os.path.exists('data'):\n",
    "    os.mkdir('data')\n",
    "\n",
    "def parse_model_file(filename: str) -> pd.DataFrame:\n",
    "    def parse_header(lines: List[str]) -> Tuple[Dict[str, str], int]:\n",
    "        metadata = dict()\n",
    "        for (i, line) in enumerate(lines):\n",
    "            # stop at end of header\n",
    "            if not line.startswith('#'):\n",
    "                return metadata, i\n",
    "            # skip header lines that not in key-value format\n",
    "            if not '::' in line:\n",
    "                continue\n",
    "            kv = line.replace('#', '').split('::')\n",
    "            assert len(kv) == 2\n",
    "            metadata[kv[0].strip()] = kv[1].strip()\n",
    "    with open(filename) as f:\n",
    "        lines = f.readlines()\n",
    "        metadata, i = parse_header(lines)\n",
    "        csv_str = \"\".join(lines[i:])\n",
    "        df = pd.read_csv(io.StringIO(csv_str), delim_whitespace=True, header=None)\n",
    "        years = df[0]\n",
    "        df = df.drop(columns=[0])\n",
    "        name = '{}_{}'.format(metadata['model_id'], metadata['realization'])\n",
    "        xdarr = xr.DataArray(df, coords=[years, months], dims=['years', 'months'], attrs=metadata, name=name)\n",
    "        return xdarr"
   ]
  },
  {
   "cell_type": "code",
   "execution_count": null,
   "metadata": {},
   "outputs": [],
   "source": [
    "for var in var_names:\n",
    "    dirname = './{}/{}'.format(raw_data_dir, var)\n",
    "    models = dict()\n",
    "    for file in filter(lambda f: not f.startswith('.'), os.listdir(dirname)):\n",
    "        xdarr = parse_model_file('{}/{}'.format(dirname, file))\n",
    "        models[xdarr.name] = xdarr\n",
    "    ds = xr.Dataset(models)\n",
    "    ds.to_netcdf(\"./data/{}.nc\".format(var))"
   ]
  },
  {
   "cell_type": "markdown",
   "metadata": {},
   "source": [
    "2. Collect and organize raw data to construct per-model datasets"
   ]
  },
  {
   "cell_type": "code",
   "execution_count": 7,
   "metadata": {},
   "outputs": [],
   "source": [
    "# Utility functions\n",
    "\n",
    "def center_monthly_means(xdarr: xr.DataArray) -> xr.DataArray:\n",
    "    attrs = xdarr.attrs\n",
    "    means = xdarr.mean(dim='years', keep_attrs=True)\n",
    "    xdarr = xdarr - means\n",
    "    xdarr.attrs = attrs\n",
    "    return xdarr\n",
    "\n",
    "def flatten_months(xdarr: xr.DataArray) -> xr.DataArray:\n",
    "    d0,d1 = xdarr.shape\n",
    "    xdarr = xdarr.stack(time=('years','months'))\n",
    "    assert(len(xdarr.shape) == 1)\n",
    "    assert(xdarr.shape[0] == d0*d1)\n",
    "    return xdarr"
   ]
  },
  {
   "cell_type": "code",
   "execution_count": 11,
   "metadata": {},
   "outputs": [
    {
     "name": "stdout",
     "output_type": "stream",
     "text": [
      "processing model data for tas\n",
      "building data array for tas\n",
      "processing model data for tasmin\n",
      "building data array for tasmin\n",
      "processing model data for tasmax\n",
      "building data array for tasmax\n",
      "processing model data for pr\n",
      "building data array for pr\n",
      "processing model data for pme\n",
      "building data array for pme\n",
      "processing model data for evspsbl\n",
      "building data array for evspsbl\n",
      "building dataset for all variables\n",
      "<xarray.Dataset>\n",
      "Dimensions:  (models: 40, time: 2880)\n",
      "Coordinates:\n",
      "  * models   (models) <U16 'CCSM4_1' 'CCSM4_2' ... 'MRI-CGCM3_1' 'NorESM1-M_1'\n",
      "  * time     (time) MultiIndex\n",
      "  - years    (time) int64 1861 1861 1861 1861 1861 ... 1863 1863 1863 1863 1863\n",
      "  - months   (time) object 'Jan' 'Feb' 'Mar' 'Apr' ... 'Mar' 'Apr' 'May' 'Jun'\n",
      "Data variables:\n",
      "    tas      (models, time) float64 -1.232 -0.9981 -0.3392 ... 1.091 1.176\n",
      "    tasmin   (models, time) float64 -0.8222 -3.135 -0.5128 ... 1.486 0.5544\n",
      "    tasmax   (models, time) float64 -0.5729 -2.731 -0.5294 ... 1.633 -0.1004\n",
      "    pr       (models, time) float64 -5.454e-07 -3.203e-06 ... -1.802e-06\n",
      "    pme      (models, time) float64 -1.763e-07 -3.496e-06 ... -5.584e-06\n",
      "    evspsbl  (models, time) float64 -3.692e-07 2.936e-07 ... 3.288e-06 3.781e-06\n"
     ]
    }
   ],
   "source": [
    "var_datasets = dict()\n",
    "for var in var_names:\n",
    "    xds = xr.open_dataset('data/{}.nc'.format(var))\n",
    "    var_datasets[var] = xds\n",
    "    \n",
    "common_models = set()\n",
    "for var, ds in var_datasets.items():\n",
    "    if len(common_models) == 0:\n",
    "        common_models |= ds.data_vars.keys()\n",
    "    else:\n",
    "        common_models &= ds.data_vars.keys()\n",
    "var_data = dict()\n",
    "for var, ds in var_datasets.items():\n",
    "    xs = []\n",
    "    model_names = []\n",
    "    print('processing model data for {}'.format(var))\n",
    "    for model in sorted(filter(lambda m: m in common_models, ds.data_vars.keys())):\n",
    "        xdarr = ds.data_vars[model]\n",
    "        # fill NaNs\n",
    "        xdarr = xdarr.ffill(dim='years')\n",
    "        xdarr = xdarr.bfill(dim='years')\n",
    "        xdarr = center_monthly_means(xdarr)\n",
    "        xdarr = flatten_months(xdarr)\n",
    "        xs.append(xdarr)\n",
    "        model_names.append(model)\n",
    "    print('building data array for {}'.format(var))\n",
    "    var_dr = xr.DataArray(xs, [('models', model_names),('time', xs[0].indexes['time'])])\n",
    "    var_data[var] = var_dr\n",
    "\n",
    "print('building dataset for all variables')\n",
    "model_time_var_ds = xr.Dataset(var_data)\n",
    "print(model_time_var_ds)\n",
    "model_time_var_ds = model_time_var_ds.reset_index('time')\n",
    "print(model_time_var_ds)\n",
    "model_time_var_ds.to_netcdf('./data/{}.nc'.format('models_all_vars_vs_time'))"
   ]
  },
  {
   "cell_type": "code",
   "execution_count": 22,
   "metadata": {},
   "outputs": [],
   "source": [
    "from sklearn.decomposition import PCA\n",
    "from sklearn.manifold import SpectralEmbedding, TSNE\n",
    "import matplotlib.pyplot as plt"
   ]
  },
  {
   "cell_type": "code",
   "execution_count": 28,
   "metadata": {},
   "outputs": [
    {
     "name": "stdout",
     "output_type": "stream",
     "text": [
      "(40,)\n"
     ]
    },
    {
     "data": {
      "image/png": "[encoded data removed]",
      "text/plain": [
       "<Figure size 432x288 with 1 Axes>"
      ]
     },
     "metadata": {
      "needs_background": "light"
     },
     "output_type": "display_data"
    }
   ],
   "source": [
    "tas = model_time_var_ds['tas']\n",
    "X_tas = tas.values\n",
    "\n",
    "tsne = TSNE()\n",
    "X_tas_tsne = tsne.fit_transform(X_tas)\n",
    "print(X_tas_tsne[:,0].shape)\n",
    "plt.scatter(X_tas_tsne[:,0], X_tas_tsne[:,1])\n",
    "plt.show()"
   ]
  },
  {
   "cell_type": "code",
   "execution_count": null,
   "metadata": {},
   "outputs": [],
   "source": []
  }
 ],
 "metadata": {
  "kernelspec": {
   "display_name": "Python 3",
   "language": "python",
   "name": "python3"
  },
  "language_info": {
   "codemirror_mode": {
    "name": "ipython",
    "version": 3
   },
   "file_extension": ".py",
   "mimetype": "text/x-python",
   "name": "python",
   "nbconvert_exporter": "python",
   "pygments_lexer": "ipython3",
   "version": "3.6.7"
  }
 },
 "nbformat": 4,
 "nbformat_minor": 2
}
