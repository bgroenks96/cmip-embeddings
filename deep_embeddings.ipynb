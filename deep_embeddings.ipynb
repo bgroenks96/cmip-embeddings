{
 "cells": [
  {
   "cell_type": "code",
   "execution_count": 11,
   "metadata": {},
   "outputs": [
    {
     "name": "stdout",
     "output_type": "stream",
     "text": [
      "Python 3.7.2\n",
      "32 CPUs\n",
      "numpy version: 1.15.4\n",
      "xarray version: 0.11.0\n",
      "matplotlib version: 3.0.3\n",
      "sklearn version: 0.19.2\n"
     ]
    }
   ],
   "source": [
    "import sys\n",
    "!python --version\n",
    "import numpy as np\n",
    "import xarray as xr\n",
    "import itertools as it\n",
    "import multiprocessing as mp\n",
    "import matplotlib\n",
    "import matplotlib.cm as cm\n",
    "import matplotlib.pyplot as plt\n",
    "import matplotlib.rcsetup as rcsetup\n",
    "import tensorflow as tf\n",
    "import sklearn\n",
    "\n",
    "CPU_COUNT = mp.cpu_count()\n",
    "print('{} CPUs'.format(CPU_COUNT))\n",
    "print('numpy version: {}'.format(np.__version__))\n",
    "print('xarray version: {}'.format(xr.__version__))\n",
    "print('matplotlib version: {}'.format(matplotlib.__version__))\n",
    "print('sklearn version: {}'.format(sklearn.__version__))\n",
    "sess = tf.Session(config=tf.ConfigProto(log_device_placement=True))"
   ]
  },
  {
   "cell_type": "code",
   "execution_count": 12,
   "metadata": {},
   "outputs": [
    {
     "name": "stdout",
     "output_type": "stream",
     "text": [
      "<xarray.Dataset>\n",
      "Dimensions:  (lat: 72, lon: 144, time: 2880)\n",
      "Coordinates:\n",
      "  * lat      (lat) float64 -88.75 -86.25 -83.75 -81.25 ... 83.75 86.25 88.75\n",
      "  * lon      (lon) float64 1.25 3.75 6.25 8.75 11.25 ... 351.2 353.8 356.2 358.8\n",
      "    years    (time) int64 ...\n",
      "    months   (time) object ...\n",
      "Dimensions without coordinates: time\n",
      "Data variables:\n",
      "    tas      (time, lat, lon) float64 -1.29 -1.29 -1.288 ... 4.061 4.039 4.015\n"
     ]
    }
   ],
   "source": [
    "X_ds = xr.open_dataset('data/rcp26/MIROC5/rcp26_MIROC5_grid.nc')\n",
    "X_arr = X_ds['tas'].values\n",
    "shape = X_arr.shape\n",
    "X_monthly = X_arr.reshape((int(shape[0] / 12), 12, shape[1], shape[2]))\n",
    "monthly_means = np.mean(X_monthly, axis=0)\n",
    "X_monthly_c = X_monthly - monthly_means\n",
    "X_c = X_monthly_c.reshape(shape)\n",
    "X_flat = X_arr.reshape((X_arr.shape[0], X_arr.shape[1]*X_arr.shape[2]))\n",
    "print(X_ds)"
   ]
  },
  {
   "cell_type": "code",
   "execution_count": 13,
   "metadata": {},
   "outputs": [
    {
     "name": "stdout",
     "output_type": "stream",
     "text": [
      "(2880, 72, 144)\n",
      "(2880, 10368)\n"
     ]
    }
   ],
   "source": [
    "print(X_c.shape)\n",
    "print(X_flat.shape)"
   ]
  },
  {
   "cell_type": "code",
   "execution_count": 14,
   "metadata": {},
   "outputs": [],
   "source": [
    "from keras.layers import Input, Dense, BatchNormalization\n",
    "from keras.regularizers import l1,l2\n",
    "from keras.models import Model\n",
    "\n",
    "BATCH_SIZE = int(X_flat.shape[0] / 10)\n",
    "\n",
    "input_0 = Input(batch_shape=(BATCH_SIZE, X_flat.shape[1]))\n",
    "dense_1 = Dense(32, activation='relu', kernel_regularizer=l1(1.0e-5))(input_0)\n",
    "dense_3 = Dense(X_flat.shape[1], activation='linear')(dense_1)\n",
    "\n",
    "model = Model(inputs=input_0, outputs=dense_3)\n",
    "model.compile(optimizer='adam', loss='mse')"
   ]
  },
  {
   "cell_type": "code",
   "execution_count": 48,
   "metadata": {},
   "outputs": [
    {
     "data": {
      "image/png": "[encoded data removed]",
      "text/plain": [
       "<Figure size 864x576 with 1 Axes>"
      ]
     },
     "metadata": {
      "needs_background": "light"
     },
     "output_type": "display_data"
    },
    {
     "name": "stdout",
     "output_type": "stream",
     "text": [
      "mse (cost function):\n",
      "training   (min:   48.308, max: 46651.363, cur:   49.428)\n"
     ]
    },
    {
     "data": {
      "text/plain": [
       "<keras.callbacks.History at 0x7f00725dbb00>"
      ]
     },
     "execution_count": 48,
     "metadata": {},
     "output_type": "execute_result"
    }
   ],
   "source": [
    "from livelossplot.keras import PlotLossesCallback\n",
    "\n",
    "model.fit(X_flat, X_flat, batch_size=BATCH_SIZE, epochs=50, callbacks=[PlotLossesCallback()])"
   ]
  },
  {
   "cell_type": "code",
   "execution_count": 27,
   "metadata": {},
   "outputs": [
    {
     "name": "stdout",
     "output_type": "stream",
     "text": [
      "_________________________________________________________________\n",
      "Layer (type)                 Output Shape              Param #   \n",
      "=================================================================\n",
      "input_11 (InputLayer)        (288, 72, 144, 1)         0         \n",
      "_________________________________________________________________\n",
      "batch_normalization_26 (Batc (288, 72, 144, 1)         4         \n",
      "_________________________________________________________________\n",
      "conv2d_49 (Conv2D)           (288, 36, 36, 16)         160       \n",
      "_________________________________________________________________\n",
      "batch_normalization_27 (Batc (288, 36, 36, 16)         64        \n",
      "_________________________________________________________________\n",
      "conv2d_50 (Conv2D)           (288, 18, 18, 8)          1160      \n",
      "_________________________________________________________________\n",
      "batch_normalization_28 (Batc (288, 18, 18, 8)          32        \n",
      "_________________________________________________________________\n",
      "conv2d_51 (Conv2D)           (288, 9, 9, 4)            292       \n",
      "_________________________________________________________________\n",
      "conv2d_52 (Conv2D)           (288, 9, 9, 4)            148       \n",
      "_________________________________________________________________\n",
      "up_sampling2d_19 (UpSampling (288, 18, 18, 4)          0         \n",
      "_________________________________________________________________\n",
      "conv2d_53 (Conv2D)           (288, 18, 18, 8)          296       \n",
      "_________________________________________________________________\n",
      "up_sampling2d_20 (UpSampling (288, 36, 36, 8)          0         \n",
      "_________________________________________________________________\n",
      "conv2d_54 (Conv2D)           (288, 36, 36, 16)         1168      \n",
      "_________________________________________________________________\n",
      "up_sampling2d_21 (UpSampling (288, 72, 144, 16)        0         \n",
      "_________________________________________________________________\n",
      "conv2d_55 (Conv2D)           (288, 72, 144, 1)         145       \n",
      "=================================================================\n",
      "Total params: 3,469\n",
      "Trainable params: 3,419\n",
      "Non-trainable params: 50\n",
      "_________________________________________________________________\n",
      "None\n"
     ]
    }
   ],
   "source": [
    "from keras.layers import *\n",
    "from keras.regularizers import l1,l2\n",
    "from keras.models import Model\n",
    "\n",
    "BATCH_SIZE = int(X_flat.shape[0] / 10)\n",
    "\n",
    "input_0 = Input(batch_shape=(BATCH_SIZE, X_c.shape[1], X_c.shape[2], 1))\n",
    "conv_0 = Conv2D(16, (3,3), strides=(2,4), activation='relu', padding='same')(BatchNormalization()(input_0))\n",
    "conv_1 = Conv2D(8, (3,3), strides=(2,2), activation='relu', padding='same')(BatchNormalization()(conv_0))\n",
    "conv_2 = Conv2D(4, (3,3), strides=(2,2), activation='relu', padding='same')(BatchNormalization()(conv_1))\n",
    "\n",
    "conv_3 = Conv2D(4, (3,3), activation='relu', padding='same')(conv_2)\n",
    "conv_4 = Conv2D(8, (3,3), activation='relu', padding='same')(UpSampling2D((2,2))(conv_3))\n",
    "conv_5 = Conv2D(16, (3,3), activation='relu', padding='same')(UpSampling2D((2,2))(conv_4))\n",
    "conv_6 = Conv2D(1, (3,3), padding='same')(UpSampling2D((2,4))(conv_5))\n",
    "\n",
    "conv_model = Model(inputs=input_0, outputs=conv_6)\n",
    "conv_model.compile(optimizer='adam', loss='mse')\n",
    "print(conv_model.summary())"
   ]
  },
  {
   "cell_type": "code",
   "execution_count": 28,
   "metadata": {},
   "outputs": [
    {
     "data": {
      "image/png": "[encoded data removed]",
      "text/plain": [
       "<Figure size 864x576 with 1 Axes>"
      ]
     },
     "metadata": {
      "needs_background": "light"
     },
     "output_type": "display_data"
    },
    {
     "name": "stdout",
     "output_type": "stream",
     "text": [
      "mse (cost function):\n",
      "training   (min:    0.441, max:    1.844, cur:    0.441)\n"
     ]
    },
    {
     "data": {
      "text/plain": [
       "<keras.callbacks.History at 0x7f58713ce940>"
      ]
     },
     "execution_count": 28,
     "metadata": {},
     "output_type": "execute_result"
    }
   ],
   "source": [
    "from livelossplot.keras import PlotLossesCallback\n",
    "\n",
    "X_c_in = np.expand_dims(X_c, axis=3)\n",
    "assert X_c_in.shape == (X_c.shape[0], X_c.shape[1], X_c.shape[2], 1), X_c_in.shape\n",
    "conv_model.fit(X_c_in, X_c_in, batch_size=BATCH_SIZE, epochs=25, callbacks=[PlotLossesCallback()])"
   ]
  },
  {
   "cell_type": "code",
   "execution_count": null,
   "metadata": {},
   "outputs": [],
   "source": []
  }
 ],
 "metadata": {
  "kernelspec": {
   "display_name": "Python 3",
   "language": "python",
   "name": "python3"
  },
  "language_info": {
   "codemirror_mode": {
    "name": "ipython",
    "version": 3
   },
   "file_extension": ".py",
   "mimetype": "text/x-python",
   "name": "python",
   "nbconvert_exporter": "python",
   "pygments_lexer": "ipython3",
   "version": "3.7.2"
  }
 },
 "nbformat": 4,
 "nbformat_minor": 2
}
