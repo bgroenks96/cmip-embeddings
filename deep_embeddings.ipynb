{
 "cells": [
  {
   "cell_type": "code",
   "execution_count": 1,
   "metadata": {},
   "outputs": [
    {
     "name": "stdout",
     "output_type": "stream",
     "text": [
      "Python 3.7.1\n",
      "8 CPUs\n",
      "numpy version: 1.15.4\n",
      "xarray version: 0.11.3\n",
      "matplotlib version: 3.0.2\n",
      "sklearn version: 0.20.1\n"
     ]
    }
   ],
   "source": [
    "import sys\n",
    "!python --version\n",
    "import numpy as np\n",
    "import xarray as xr\n",
    "import itertools as it\n",
    "import multiprocessing as mp\n",
    "import matplotlib\n",
    "import matplotlib.cm as cm\n",
    "import matplotlib.pyplot as plt\n",
    "import matplotlib.rcsetup as rcsetup\n",
    "import sklearn\n",
    "\n",
    "CPU_COUNT = mp.cpu_count()\n",
    "print('{} CPUs'.format(CPU_COUNT))\n",
    "print('numpy version: {}'.format(np.__version__))\n",
    "print('xarray version: {}'.format(xr.__version__))\n",
    "print('matplotlib version: {}'.format(matplotlib.__version__))\n",
    "print('sklearn version: {}'.format(sklearn.__version__))"
   ]
  },
  {
   "cell_type": "code",
   "execution_count": 8,
   "metadata": {},
   "outputs": [
    {
     "name": "stdout",
     "output_type": "stream",
     "text": [
      "<xarray.Dataset>\n",
      "Dimensions:    (lat: 192, lon: 288, nbnd: 2, time: 780)\n",
      "Coordinates:\n",
      "  * lat        (lat) float64 -90.0 -89.06 -88.12 -87.17 ... 88.12 89.06 90.0\n",
      "  * lon        (lon) float64 0.0 1.25 2.5 3.75 5.0 ... 355.0 356.2 357.5 358.8\n",
      "  * time       (time) float64 7.114e+05 7.114e+05 ... 7.351e+05 7.351e+05\n",
      "Dimensions without coordinates: nbnd\n",
      "Data variables:\n",
      "    lat_bnds   (lat, nbnd) float32 ...\n",
      "    lon_bnds   (lon, nbnd) float32 ...\n",
      "    tas        (time, lat, lon) float32 246.92198 246.92198 ... 246.24997\n",
      "    time_bnds  (time, nbnd) float64 ...\n",
      "Attributes:\n",
      "    Conventions:            CF-1.7 CMIP-6.2\n",
      "    activity_id:            CMIP\n",
      "    case_id:                38\n",
      "    cesm_casename:          f.e21.FHIST_BGC.f09_f09_mg17.CMIP6-AMIP.001\n",
      "    contact:                cesm_cmip6@ucar.edu\n",
      "    creation_date:          2019-01-20T15:59:00Z\n",
      "    data_specs_version:     01.00.29\n",
      "    experiment:             AMIP\n",
      "    experiment_id:          amip\n",
      "    external_variables:     areacella\n",
      "    forcing_index:          1\n",
      "    frequency:              mon\n",
      "    further_info_url:       https://furtherinfo.es-doc.org/CMIP6.NCAR.CESM2.a...\n",
      "    grid:                   native 0.9x1.25 finite volume grid (192x288 latxlon)\n",
      "    grid_label:             gn\n",
      "    initialization_index:   1\n",
      "    institution:            National Center for Atmospheric Research, Climate...\n",
      "    institution_id:         NCAR\n",
      "    license:                CMIP6 model data produced by <The National Center...\n",
      "    mip_era:                CMIP6\n",
      "    model_doi_url:          https://doi.org/10.5065/D67H1H0V\n",
      "    nominal_resolution:     100 km\n",
      "    physics_index:          1\n",
      "    product:                model-output\n",
      "    realization_index:      1\n",
      "    realm:                  atmos\n",
      "    source:                 CESM2 (2017): atmosphere: CAM6 (0.9x1.25 finite v...\n",
      "    source_id:              CESM2\n",
      "    source_type:            AGCM BGC AER\n",
      "    sub_experiment:         none\n",
      "    sub_experiment_id:      none\n",
      "    table_id:               Amon\n",
      "    tracking_id:            hdl:21.14100/e89467d2-428e-473d-a41f-f8e5b83443c7\n",
      "    variable_id:            tas\n",
      "    variant_info:           f.e21.FHIST_BGC.f09_f09_mg17.CMIP6-AMIP.001 \r",
      "\\n\r",
      "\\...\n",
      "    variant_label:          r1i1p1f1\n",
      "    branch_method:          no parent\n",
      "    parent_activity_id:     no parent\n",
      "    parent_experiment_id:   no parent\n",
      "    parent_mip_era:         no parent\n",
      "    parent_source_id:       no parent\n",
      "    parent_time_units:      no parent\n",
      "    parent_variant_label:   no parent\n",
      "    branch_time_in_parent:  0.0\n",
      "    branch_time_in_child:   711385.0\n",
      "    history:                Sun Apr  7 19:56:34 2019: ncks -3 tas_Amon_CESM2_...\n",
      "    NCO:                    netCDF Operators version 4.7.6 (Homepage = http:/...\n",
      "<xarray.Dataset>\n",
      "Dimensions:    (bnds: 2, lat: 90, lon: 144, time: 612)\n",
      "Coordinates:\n",
      "    height     float64 ...\n",
      "  * lat        (lat) float64 -89.0 -87.0 -85.0 -83.0 ... 83.0 85.0 87.0 89.0\n",
      "  * lon        (lon) float64 1.25 3.75 6.25 8.75 ... 351.2 353.8 356.2 358.8\n",
      "  * time       (time) float64 15.5 45.0 74.5 ... 1.854e+04 1.857e+04 1.86e+04\n",
      "Dimensions without coordinates: bnds\n",
      "Data variables:\n",
      "    lat_bnds   (lat, bnds) float64 ...\n",
      "    lon_bnds   (lon, bnds) float64 ...\n",
      "    tas        (time, lat, lon) float32 ...\n",
      "    time_bnds  (time, bnds) float64 ...\n",
      "Attributes:\n",
      "    Conventions:            CF-1.7 CMIP-6.2\n",
      "    activity_id:            CMIP\n",
      "    branch_method:          standard\n",
      "    branch_time_in_child:   0.0\n",
      "    branch_time_in_parent:  0.0\n",
      "    contact:                Kenneth Lo (cdkkl@giss.nasa.gov)\n",
      "    creation_date:          2018-11-06T17:09:25Z\n",
      "    data_specs_version:     01.00.23\n",
      "    experiment:             AMIP\n",
      "    experiment_id:          amip\n",
      "    external_variables:     areacella\n",
      "    forcing_index:          1\n",
      "    frequency:              mon\n",
      "    further_info_url:       https://furtherinfo.es-doc.org/CMIP6.NASA-GISS.GI...\n",
      "    grid:                   atmospheric grid: 144x90\n",
      "    grid_label:             gn\n",
      "    history:                Wed Apr 10 23:23:01 2019: ncks -3 tas_Amon_GISS-E...\n",
      "    initialization_index:   1\n",
      "    institution:            Goddard Institute for Space Studies, New York, NY...\n",
      "    institution_id:         NASA-GISS\n",
      "    mip_era:                CMIP6\n",
      "    model_id:               E139OCNf10aF40\n",
      "    nominal_resolution:     250 km\n",
      "    physics_index:          1\n",
      "    product:                model-output\n",
      "    realization_index:      1\n",
      "    realm:                  atmos\n",
      "    references:             https://data.giss.nasa.gov/modelE/cmip6\n",
      "    source:                 GISS-E2.1G (2016): \\naerosol: Varies with physics...\n",
      "    source_id:              GISS-E2-1-G\n",
      "    source_type:            AGCM\n",
      "    sub_experiment:         none\n",
      "    sub_experiment_id:      none\n",
      "    table_id:               Amon\n",
      "    table_info:             Creation Date:(21 March 2018) MD5:f76dbc1e8bf6b7e...\n",
      "    title:                  GISS-E2-1-G output prepared for CMIP6\n",
      "    tracking_id:            hdl:21.14100/3d290cea-28ca-4b23-a5ea-17150f167a2f\n",
      "    variable_id:            tas\n",
      "    variant_label:          r1i1p1f1\n",
      "    license:                CMIP6 model data produced by NASA Goddard Institu...\n",
      "    cmor_version:           3.3.2\n",
      "    NCO:                    netCDF Operators version 4.7.6 (Homepage = http:/...\n"
     ]
    }
   ],
   "source": [
    "X_ds = xr.open_dataset('data/amip/tas_Amon_CESM2_amip_r1i1p1f1_gn_195001-201412_3.nc', decode_times=False)\n",
    "X_ds_2 = xr.open_dataset('data/amip/tas_Amon_GISS-E2-1-G_amip_r1i1p1f1_gn_185001-190012.nc', decode_times=False)\n",
    "X_arr = X_ds['tas'].values\n",
    "shape = X_arr.shape\n",
    "X_monthly = X_arr.reshape((int(shape[0] / 12), 12, shape[1], shape[2]))\n",
    "monthly_means = np.mean(X_monthly, axis=0)\n",
    "X_monthly_c = X_monthly - monthly_means\n",
    "X_c = X_monthly_c.reshape(shape)\n",
    "X_flat = X_arr.reshape((X_arr.shape[0], X_arr.shape[1]*X_arr.shape[2]))\n",
    "print(X_ds)\n",
    "print(X_ds_2)"
   ]
  },
  {
   "cell_type": "code",
   "execution_count": 5,
   "metadata": {},
   "outputs": [
    {
     "name": "stdout",
     "output_type": "stream",
     "text": [
      "(612, 90, 144)\n",
      "(612, 12960)\n"
     ]
    }
   ],
   "source": [
    "print(X_c.shape)\n",
    "print(X_flat.shape)"
   ]
  },
  {
   "cell_type": "code",
   "execution_count": 47,
   "metadata": {},
   "outputs": [],
   "source": [
    "from keras.layers import Input, Dense, BatchNormalization\n",
    "from keras.regularizers import l1,l2\n",
    "from keras.models import Model\n",
    "\n",
    "BATCH_SIZE = int(X_flat.shape[0] / 10)\n",
    "\n",
    "input_0 = Input(batch_shape=(BATCH_SIZE, X_flat.shape[1]))\n",
    "dense_1 = Dense(32, activation='relu', kernel_regularizer=l1(1.0e-5))(input_0)\n",
    "dense_3 = Dense(X_flat.shape[1], activation='linear')(dense_1)\n",
    "\n",
    "model = Model(inputs=input_0, outputs=dense_3)\n",
    "model.compile(optimizer='adam', loss='mse')"
   ]
  },
  {
   "cell_type": "code",
   "execution_count": 48,
   "metadata": {},
   "outputs": [
    {
     "data": {
      "image/png": "[encoded data removed]",
      "text/plain": [
       "<Figure size 864x576 with 1 Axes>"
      ]
     },
     "metadata": {
      "needs_background": "light"
     },
     "output_type": "display_data"
    },
    {
     "name": "stdout",
     "output_type": "stream",
     "text": [
      "mse (cost function):\n",
      "training   (min:   48.308, max: 46651.363, cur:   49.428)\n"
     ]
    },
    {
     "data": {
      "text/plain": [
       "<keras.callbacks.History at 0x7f00725dbb00>"
      ]
     },
     "execution_count": 48,
     "metadata": {},
     "output_type": "execute_result"
    }
   ],
   "source": [
    "from livelossplot.keras import PlotLossesCallback\n",
    "\n",
    "model.fit(X_flat, X_flat, batch_size=BATCH_SIZE, epochs=50, callbacks=[PlotLossesCallback()])"
   ]
  },
  {
   "cell_type": "code",
   "execution_count": 26,
   "metadata": {},
   "outputs": [
    {
     "name": "stdout",
     "output_type": "stream",
     "text": [
      "_________________________________________________________________\n",
      "Layer (type)                 Output Shape              Param #   \n",
      "=================================================================\n",
      "input_12 (InputLayer)        (78, 192, 288, 1)         0         \n",
      "_________________________________________________________________\n",
      "batch_normalization_7 (Batch (78, 192, 288, 1)         4         \n",
      "_________________________________________________________________\n",
      "conv2d_72 (Conv2D)           (78, 192, 288, 16)        160       \n",
      "_________________________________________________________________\n",
      "batch_normalization_8 (Batch (78, 192, 288, 16)        64        \n",
      "_________________________________________________________________\n",
      "average_pooling2d_17 (Averag (78, 48, 48, 16)          0         \n",
      "_________________________________________________________________\n",
      "conv2d_73 (Conv2D)           (78, 48, 48, 8)           1160      \n",
      "_________________________________________________________________\n",
      "batch_normalization_9 (Batch (78, 48, 48, 8)           32        \n",
      "_________________________________________________________________\n",
      "average_pooling2d_18 (Averag (78, 24, 24, 8)           0         \n",
      "_________________________________________________________________\n",
      "conv2d_74 (Conv2D)           (78, 24, 24, 4)           292       \n",
      "_________________________________________________________________\n",
      "batch_normalization_10 (Batc (78, 24, 24, 4)           16        \n",
      "_________________________________________________________________\n",
      "average_pooling2d_19 (Averag (78, 12, 12, 4)           0         \n",
      "_________________________________________________________________\n",
      "conv2d_75 (Conv2D)           (78, 12, 12, 4)           148       \n",
      "_________________________________________________________________\n",
      "up_sampling2d_31 (UpSampling (78, 24, 24, 4)           0         \n",
      "_________________________________________________________________\n",
      "conv2d_76 (Conv2D)           (78, 24, 24, 8)           296       \n",
      "_________________________________________________________________\n",
      "up_sampling2d_32 (UpSampling (78, 48, 48, 8)           0         \n",
      "_________________________________________________________________\n",
      "conv2d_77 (Conv2D)           (78, 48, 48, 16)          1168      \n",
      "_________________________________________________________________\n",
      "up_sampling2d_33 (UpSampling (78, 192, 288, 16)        0         \n",
      "_________________________________________________________________\n",
      "conv2d_78 (Conv2D)           (78, 192, 288, 1)         145       \n",
      "=================================================================\n",
      "Total params: 3,485\n",
      "Trainable params: 3,427\n",
      "Non-trainable params: 58\n",
      "_________________________________________________________________\n",
      "None\n"
     ]
    }
   ],
   "source": [
    "from keras.layers import *\n",
    "from keras.regularizers import l1,l2\n",
    "from keras.models import Model\n",
    "\n",
    "BATCH_SIZE = int(X_flat.shape[0] / 10)\n",
    "\n",
    "input_0 = Input(batch_shape=(BATCH_SIZE, X_c.shape[1], X_c.shape[2], 1))\n",
    "conv_0 = Conv2D(16, (3,3), activation='relu', padding='same')(BatchNormalization()(input_0))\n",
    "pool_0 = AveragePooling2D((4,6), padding='same')(BatchNormalization()(conv_0))\n",
    "conv_1 = Conv2D(8, (3,3), activation='relu', padding='same')(pool_0)\n",
    "pool_1 = AveragePooling2D(8, (2,2), padding='same')(BatchNormalization()(conv_1))\n",
    "conv_2 = Conv2D(4, (3,3), activation='relu', padding='same')(pool_1)\n",
    "pool_2 = AveragePooling2D((2,2), padding='same')(BatchNormalization()(conv_2))\n",
    "\n",
    "conv_3 = Conv2D(4, (3,3), activation='relu', padding='same')(pool_2)\n",
    "up_0 = UpSampling2D((2,2))(conv_3)\n",
    "conv_4 = Conv2D(8, (3,3), activation='relu', padding='same')(up_0)\n",
    "up_1 = UpSampling2D((2,2))(conv_4)\n",
    "conv_5 = Conv2D(16, (3,3), activation='relu', padding='same')(up_1)\n",
    "up_2 = UpSampling2D((4,6))(conv_5)\n",
    "conv_6 = Conv2D(1, (3,3), padding='same')(up_2)\n",
    "\n",
    "conv_model = Model(inputs=input_0, outputs=conv_6)\n",
    "conv_model.compile(optimizer='adam', loss='mse')\n",
    "print(conv_model.summary())"
   ]
  },
  {
   "cell_type": "code",
   "execution_count": 27,
   "metadata": {},
   "outputs": [
    {
     "data": {
      "image/png": "[encoded data removed]",
      "text/plain": [
       "<Figure size 864x576 with 1 Axes>"
      ]
     },
     "metadata": {
      "needs_background": "light"
     },
     "output_type": "display_data"
    },
    {
     "name": "stdout",
     "output_type": "stream",
     "text": [
      "mse (cost function):\n",
      "training   (min:    0.862, max:    2.565, cur:    0.862)\n"
     ]
    },
    {
     "data": {
      "text/plain": [
       "<keras.callbacks.History at 0x7fa2c7483f98>"
      ]
     },
     "execution_count": 27,
     "metadata": {},
     "output_type": "execute_result"
    }
   ],
   "source": [
    "from livelossplot.keras import PlotLossesCallback\n",
    "\n",
    "X_c_in = np.expand_dims(X_c, axis=3)\n",
    "assert X_c_in.shape == (X_c.shape[0], X_c.shape[1], X_c.shape[2], 1), X_c_in.shape\n",
    "conv_model.fit(X_c_in, X_c_in, batch_size=BATCH_SIZE, epochs=25, callbacks=[PlotLossesCallback()])"
   ]
  },
  {
   "cell_type": "code",
   "execution_count": 70,
   "metadata": {},
   "outputs": [],
   "source": [
    "from keras.layers import *\n",
    "from keras.regularizers import l1,l2\n",
    "from keras.models import Model\n",
    "\n",
    "BATCH_SIZE = int(X_flat.shape[0] / 10)\n",
    "\n",
    "input_0 = Input(batch_shape=(BATCH_SIZE, X_c.shape[1], X_c.shape[2], 1))\n",
    "conv_0 = Conv2D(16, (3,3), activation='relu', padding='same')(input_0)\n",
    "pool_0 = MaxPooling2D((2,3), padding='same')(conv_0)\n",
    "conv_1 = Conv2D(8, (3,3), activation='relu', padding='same')(pool_0)\n",
    "pool_1 = MaxPooling2D(8, (4,4), padding='same')(conv_1)\n",
    "conv_2 = Conv2D(8, (3,3), activation='relu', padding='same')(pool_1)\n",
    "pool_2 = MaxPooling2D((2,2), padding='same')(conv_2)\n",
    "conv_3 = Conv2D(4, (3,3), activation='relu', padding='same')(pool_2)\n",
    "pool_3 = MaxPooling2D((2,2), padding='same')(conv_3)\n",
    "\n",
    "conv_4 = Conv2D(4, (3,3), activation='relu', padding='same')(pool_3)\n",
    "up_0 = UpSampling2D((2,2))(conv_4)\n",
    "conv_5 = Conv2D(8, (3,3), activation='relu', padding='same')(up_0)\n",
    "up_1 = UpSampling2D((2,2))(conv_5)\n",
    "conv_6 = Conv2D(8, (3,3), activation='relu', padding='same')(up_1)\n",
    "up_2 = UpSampling2D((4,4))(conv_6)\n",
    "conv_7 = Conv2D(16, (3,3), activation='relu', padding='same')(up_2)\n",
    "up_3 = UpSampling2D((2,3))(conv_7)\n",
    "conv_8 = Conv2D(1, (3,3), activation='linear', padding='same')(up_3)\n",
    "\n",
    "conv_model2 = Model(inputs=input_0, outputs=conv_8)\n",
    "conv_model2.compile(optimizer='adam', loss='mse')"
   ]
  },
  {
   "cell_type": "code",
   "execution_count": 72,
   "metadata": {},
   "outputs": [
    {
     "data": {
      "image/png": "[encoded data removed]",
      "text/plain": [
       "<Figure size 864x576 with 1 Axes>"
      ]
     },
     "metadata": {
      "needs_background": "light"
     },
     "output_type": "display_data"
    },
    {
     "name": "stdout",
     "output_type": "stream",
     "text": [
      "mse (cost function):\n",
      "training   (min:    1.207, max:    1.745, cur:    1.207)\n",
      "Epoch 33/75\n",
      "156/780 [=====>........................] - ETA: 11s - loss: 1.2196"
     ]
    },
    {
     "ename": "KeyboardInterrupt",
     "evalue": "",
     "output_type": "error",
     "traceback": [
      "\u001b[0;31m---------------------------------------------------------------------------\u001b[0m",
      "\u001b[0;31mKeyboardInterrupt\u001b[0m                         Traceback (most recent call last)",
      "\u001b[0;32m<ipython-input-72-b4c761ac7098>\u001b[0m in \u001b[0;36m<module>\u001b[0;34m\u001b[0m\n\u001b[1;32m      2\u001b[0m \u001b[0mprint\u001b[0m\u001b[0;34m(\u001b[0m\u001b[0mconv_model2\u001b[0m\u001b[0;34m.\u001b[0m\u001b[0msummary\u001b[0m\u001b[0;34m(\u001b[0m\u001b[0;34m)\u001b[0m\u001b[0;34m)\u001b[0m\u001b[0;34m\u001b[0m\u001b[0;34m\u001b[0m\u001b[0m\n\u001b[1;32m      3\u001b[0m \u001b[0;32massert\u001b[0m \u001b[0mX_c_in\u001b[0m\u001b[0;34m.\u001b[0m\u001b[0mshape\u001b[0m \u001b[0;34m==\u001b[0m \u001b[0;34m(\u001b[0m\u001b[0mX_c\u001b[0m\u001b[0;34m.\u001b[0m\u001b[0mshape\u001b[0m\u001b[0;34m[\u001b[0m\u001b[0;36m0\u001b[0m\u001b[0;34m]\u001b[0m\u001b[0;34m,\u001b[0m \u001b[0mX_c\u001b[0m\u001b[0;34m.\u001b[0m\u001b[0mshape\u001b[0m\u001b[0;34m[\u001b[0m\u001b[0;36m1\u001b[0m\u001b[0;34m]\u001b[0m\u001b[0;34m,\u001b[0m \u001b[0mX_c\u001b[0m\u001b[0;34m.\u001b[0m\u001b[0mshape\u001b[0m\u001b[0;34m[\u001b[0m\u001b[0;36m2\u001b[0m\u001b[0;34m]\u001b[0m\u001b[0;34m,\u001b[0m \u001b[0;36m1\u001b[0m\u001b[0;34m)\u001b[0m\u001b[0;34m,\u001b[0m \u001b[0mX_c_in\u001b[0m\u001b[0;34m.\u001b[0m\u001b[0mshape\u001b[0m\u001b[0;34m\u001b[0m\u001b[0;34m\u001b[0m\u001b[0m\n\u001b[0;32m----> 4\u001b[0;31m \u001b[0mconv_model2\u001b[0m\u001b[0;34m.\u001b[0m\u001b[0mfit\u001b[0m\u001b[0;34m(\u001b[0m\u001b[0mX_c_in\u001b[0m\u001b[0;34m,\u001b[0m \u001b[0mX_c_in\u001b[0m\u001b[0;34m,\u001b[0m \u001b[0mbatch_size\u001b[0m\u001b[0;34m=\u001b[0m\u001b[0mBATCH_SIZE\u001b[0m\u001b[0;34m,\u001b[0m \u001b[0mepochs\u001b[0m\u001b[0;34m=\u001b[0m\u001b[0;36m75\u001b[0m\u001b[0;34m,\u001b[0m \u001b[0mcallbacks\u001b[0m\u001b[0;34m=\u001b[0m\u001b[0;34m[\u001b[0m\u001b[0mPlotLossesCallback\u001b[0m\u001b[0;34m(\u001b[0m\u001b[0;34m)\u001b[0m\u001b[0;34m]\u001b[0m\u001b[0;34m)\u001b[0m\u001b[0;34m\u001b[0m\u001b[0;34m\u001b[0m\u001b[0m\n\u001b[0m",
      "\u001b[0;32m~/anaconda3/lib/python3.7/site-packages/keras/engine/training.py\u001b[0m in \u001b[0;36mfit\u001b[0;34m(self, x, y, batch_size, epochs, verbose, callbacks, validation_split, validation_data, shuffle, class_weight, sample_weight, initial_epoch, steps_per_epoch, validation_steps, **kwargs)\u001b[0m\n\u001b[1;32m   1037\u001b[0m                                         \u001b[0minitial_epoch\u001b[0m\u001b[0;34m=\u001b[0m\u001b[0minitial_epoch\u001b[0m\u001b[0;34m,\u001b[0m\u001b[0;34m\u001b[0m\u001b[0;34m\u001b[0m\u001b[0m\n\u001b[1;32m   1038\u001b[0m                                         \u001b[0msteps_per_epoch\u001b[0m\u001b[0;34m=\u001b[0m\u001b[0msteps_per_epoch\u001b[0m\u001b[0;34m,\u001b[0m\u001b[0;34m\u001b[0m\u001b[0;34m\u001b[0m\u001b[0m\n\u001b[0;32m-> 1039\u001b[0;31m                                         validation_steps=validation_steps)\n\u001b[0m\u001b[1;32m   1040\u001b[0m \u001b[0;34m\u001b[0m\u001b[0m\n\u001b[1;32m   1041\u001b[0m     def evaluate(self, x=None, y=None,\n",
      "\u001b[0;32m~/anaconda3/lib/python3.7/site-packages/keras/engine/training_arrays.py\u001b[0m in \u001b[0;36mfit_loop\u001b[0;34m(model, f, ins, out_labels, batch_size, epochs, verbose, callbacks, val_f, val_ins, shuffle, callback_metrics, initial_epoch, steps_per_epoch, validation_steps)\u001b[0m\n\u001b[1;32m    197\u001b[0m                     \u001b[0mins_batch\u001b[0m\u001b[0;34m[\u001b[0m\u001b[0mi\u001b[0m\u001b[0;34m]\u001b[0m \u001b[0;34m=\u001b[0m \u001b[0mins_batch\u001b[0m\u001b[0;34m[\u001b[0m\u001b[0mi\u001b[0m\u001b[0;34m]\u001b[0m\u001b[0;34m.\u001b[0m\u001b[0mtoarray\u001b[0m\u001b[0;34m(\u001b[0m\u001b[0;34m)\u001b[0m\u001b[0;34m\u001b[0m\u001b[0;34m\u001b[0m\u001b[0m\n\u001b[1;32m    198\u001b[0m \u001b[0;34m\u001b[0m\u001b[0m\n\u001b[0;32m--> 199\u001b[0;31m                 \u001b[0mouts\u001b[0m \u001b[0;34m=\u001b[0m \u001b[0mf\u001b[0m\u001b[0;34m(\u001b[0m\u001b[0mins_batch\u001b[0m\u001b[0;34m)\u001b[0m\u001b[0;34m\u001b[0m\u001b[0;34m\u001b[0m\u001b[0m\n\u001b[0m\u001b[1;32m    200\u001b[0m                 \u001b[0mouts\u001b[0m \u001b[0;34m=\u001b[0m \u001b[0mto_list\u001b[0m\u001b[0;34m(\u001b[0m\u001b[0mouts\u001b[0m\u001b[0;34m)\u001b[0m\u001b[0;34m\u001b[0m\u001b[0;34m\u001b[0m\u001b[0m\n\u001b[1;32m    201\u001b[0m                 \u001b[0;32mfor\u001b[0m \u001b[0ml\u001b[0m\u001b[0;34m,\u001b[0m \u001b[0mo\u001b[0m \u001b[0;32min\u001b[0m \u001b[0mzip\u001b[0m\u001b[0;34m(\u001b[0m\u001b[0mout_labels\u001b[0m\u001b[0;34m,\u001b[0m \u001b[0mouts\u001b[0m\u001b[0;34m)\u001b[0m\u001b[0;34m:\u001b[0m\u001b[0;34m\u001b[0m\u001b[0;34m\u001b[0m\u001b[0m\n",
      "\u001b[0;32m~/anaconda3/lib/python3.7/site-packages/keras/backend/tensorflow_backend.py\u001b[0m in \u001b[0;36m__call__\u001b[0;34m(self, inputs)\u001b[0m\n\u001b[1;32m   2713\u001b[0m                 \u001b[0;32mreturn\u001b[0m \u001b[0mself\u001b[0m\u001b[0;34m.\u001b[0m\u001b[0m_legacy_call\u001b[0m\u001b[0;34m(\u001b[0m\u001b[0minputs\u001b[0m\u001b[0;34m)\u001b[0m\u001b[0;34m\u001b[0m\u001b[0;34m\u001b[0m\u001b[0m\n\u001b[1;32m   2714\u001b[0m \u001b[0;34m\u001b[0m\u001b[0m\n\u001b[0;32m-> 2715\u001b[0;31m             \u001b[0;32mreturn\u001b[0m \u001b[0mself\u001b[0m\u001b[0;34m.\u001b[0m\u001b[0m_call\u001b[0m\u001b[0;34m(\u001b[0m\u001b[0minputs\u001b[0m\u001b[0;34m)\u001b[0m\u001b[0;34m\u001b[0m\u001b[0;34m\u001b[0m\u001b[0m\n\u001b[0m\u001b[1;32m   2716\u001b[0m         \u001b[0;32melse\u001b[0m\u001b[0;34m:\u001b[0m\u001b[0;34m\u001b[0m\u001b[0;34m\u001b[0m\u001b[0m\n\u001b[1;32m   2717\u001b[0m             \u001b[0;32mif\u001b[0m \u001b[0mpy_any\u001b[0m\u001b[0;34m(\u001b[0m\u001b[0mis_tensor\u001b[0m\u001b[0;34m(\u001b[0m\u001b[0mx\u001b[0m\u001b[0;34m)\u001b[0m \u001b[0;32mfor\u001b[0m \u001b[0mx\u001b[0m \u001b[0;32min\u001b[0m \u001b[0minputs\u001b[0m\u001b[0;34m)\u001b[0m\u001b[0;34m:\u001b[0m\u001b[0;34m\u001b[0m\u001b[0;34m\u001b[0m\u001b[0m\n",
      "\u001b[0;32m~/anaconda3/lib/python3.7/site-packages/keras/backend/tensorflow_backend.py\u001b[0m in \u001b[0;36m_call\u001b[0;34m(self, inputs)\u001b[0m\n\u001b[1;32m   2673\u001b[0m             \u001b[0mfetched\u001b[0m \u001b[0;34m=\u001b[0m \u001b[0mself\u001b[0m\u001b[0;34m.\u001b[0m\u001b[0m_callable_fn\u001b[0m\u001b[0;34m(\u001b[0m\u001b[0;34m*\u001b[0m\u001b[0marray_vals\u001b[0m\u001b[0;34m,\u001b[0m \u001b[0mrun_metadata\u001b[0m\u001b[0;34m=\u001b[0m\u001b[0mself\u001b[0m\u001b[0;34m.\u001b[0m\u001b[0mrun_metadata\u001b[0m\u001b[0;34m)\u001b[0m\u001b[0;34m\u001b[0m\u001b[0;34m\u001b[0m\u001b[0m\n\u001b[1;32m   2674\u001b[0m         \u001b[0;32melse\u001b[0m\u001b[0;34m:\u001b[0m\u001b[0;34m\u001b[0m\u001b[0;34m\u001b[0m\u001b[0m\n\u001b[0;32m-> 2675\u001b[0;31m             \u001b[0mfetched\u001b[0m \u001b[0;34m=\u001b[0m \u001b[0mself\u001b[0m\u001b[0;34m.\u001b[0m\u001b[0m_callable_fn\u001b[0m\u001b[0;34m(\u001b[0m\u001b[0;34m*\u001b[0m\u001b[0marray_vals\u001b[0m\u001b[0;34m)\u001b[0m\u001b[0;34m\u001b[0m\u001b[0;34m\u001b[0m\u001b[0m\n\u001b[0m\u001b[1;32m   2676\u001b[0m         \u001b[0;32mreturn\u001b[0m \u001b[0mfetched\u001b[0m\u001b[0;34m[\u001b[0m\u001b[0;34m:\u001b[0m\u001b[0mlen\u001b[0m\u001b[0;34m(\u001b[0m\u001b[0mself\u001b[0m\u001b[0;34m.\u001b[0m\u001b[0moutputs\u001b[0m\u001b[0;34m)\u001b[0m\u001b[0;34m]\u001b[0m\u001b[0;34m\u001b[0m\u001b[0;34m\u001b[0m\u001b[0m\n\u001b[1;32m   2677\u001b[0m \u001b[0;34m\u001b[0m\u001b[0m\n",
      "\u001b[0;32m~/anaconda3/lib/python3.7/site-packages/tensorflow/python/client/session.py\u001b[0m in \u001b[0;36m__call__\u001b[0;34m(self, *args, **kwargs)\u001b[0m\n\u001b[1;32m   1437\u001b[0m           ret = tf_session.TF_SessionRunCallable(\n\u001b[1;32m   1438\u001b[0m               \u001b[0mself\u001b[0m\u001b[0;34m.\u001b[0m\u001b[0m_session\u001b[0m\u001b[0;34m.\u001b[0m\u001b[0m_session\u001b[0m\u001b[0;34m,\u001b[0m \u001b[0mself\u001b[0m\u001b[0;34m.\u001b[0m\u001b[0m_handle\u001b[0m\u001b[0;34m,\u001b[0m \u001b[0margs\u001b[0m\u001b[0;34m,\u001b[0m \u001b[0mstatus\u001b[0m\u001b[0;34m,\u001b[0m\u001b[0;34m\u001b[0m\u001b[0;34m\u001b[0m\u001b[0m\n\u001b[0;32m-> 1439\u001b[0;31m               run_metadata_ptr)\n\u001b[0m\u001b[1;32m   1440\u001b[0m         \u001b[0;32mif\u001b[0m \u001b[0mrun_metadata\u001b[0m\u001b[0;34m:\u001b[0m\u001b[0;34m\u001b[0m\u001b[0;34m\u001b[0m\u001b[0m\n\u001b[1;32m   1441\u001b[0m           \u001b[0mproto_data\u001b[0m \u001b[0;34m=\u001b[0m \u001b[0mtf_session\u001b[0m\u001b[0;34m.\u001b[0m\u001b[0mTF_GetBuffer\u001b[0m\u001b[0;34m(\u001b[0m\u001b[0mrun_metadata_ptr\u001b[0m\u001b[0;34m)\u001b[0m\u001b[0;34m\u001b[0m\u001b[0;34m\u001b[0m\u001b[0m\n",
      "\u001b[0;31mKeyboardInterrupt\u001b[0m: "
     ]
    }
   ],
   "source": [
    "X_c_in = np.expand_dims(X_c, axis=3)\n",
    "print(conv_model2.summary())\n",
    "assert X_c_in.shape == (X_c.shape[0], X_c.shape[1], X_c.shape[2], 1), X_c_in.shape\n",
    "conv_model2.fit(X_c_in, X_c_in, batch_size=BATCH_SIZE, epochs=75, callbacks=[PlotLossesCallback()])"
   ]
  },
  {
   "cell_type": "code",
   "execution_count": null,
   "metadata": {},
   "outputs": [],
   "source": []
  }
 ],
 "metadata": {
  "kernelspec": {
   "display_name": "Python 3",
   "language": "python",
   "name": "python3"
  },
  "language_info": {
   "codemirror_mode": {
    "name": "ipython",
    "version": 3
   },
   "file_extension": ".py",
   "mimetype": "text/x-python",
   "name": "python",
   "nbconvert_exporter": "python",
   "pygments_lexer": "ipython3",
   "version": "3.7.1"
  }
 },
 "nbformat": 4,
 "nbformat_minor": 2
}
